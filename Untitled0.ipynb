{
  "nbformat": 4,
  "nbformat_minor": 0,
  "metadata": {
    "colab": {
      "provenance": []
    },
    "kernelspec": {
      "name": "python3",
      "display_name": "Python 3"
    },
    "language_info": {
      "name": "python"
    }
  },
  "cells": [
    {
      "cell_type": "code",
      "execution_count": 43,
      "metadata": {
        "id": "wC5rHwRv8CCS",
        "outputId": "f0aea8cb-fe49-4004-ebaf-7002b0e1602f",
        "colab": {
          "base_uri": "https://localhost:8080/"
        }
      },
      "outputs": [
        {
          "output_type": "stream",
          "name": "stdout",
          "text": [
            "-Em Manchester a temperatura nesse momento é: 15.160000000000025ºC\n",
            "-Em Manchester o ceu está dessa forma: nublado\n"
          ]
        }
      ],
      "source": [
        "import requests\n",
        "\n",
        "API = \"f37812b9f0feb8f0b52b0a1659441ff8\"\n",
        "x = \"Manchester\"\n",
        "y = f\"https://api.openweathermap.org/data/2.5/weather?q={cidade}&appid={api_key}&lang=pt_br\"\n",
        "\n",
        "xx = requests.get(y)\n",
        "\n",
        "yy_dic = xx.json()\n",
        "\n",
        "dd = yy_dic['weather'][0]['description']\n",
        "\n",
        "tt = (yy_dic['main']['temp']-273)\n",
        "\n",
        "print(f\"-Em Manchester a temperatura nesse momento é: {tt}ºC\")\n",
        "print(f\"-Em Manchester o ceu está dessa forma: {dd}\")"
      ]
    },
    {
      "cell_type": "code",
      "source": [],
      "metadata": {
        "id": "2YjaWctxE7Mt"
      },
      "execution_count": null,
      "outputs": []
    }
  ]
}